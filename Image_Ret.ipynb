{
 "cells": [
  {
   "cell_type": "code",
   "execution_count": 1,
   "metadata": {},
   "outputs": [],
   "source": [
    "import cv2\n",
    "import numpy as np\n",
    "import pandas as pd\n",
    "import matplotlib.pyplot as plt\n",
    "from scipy import signal as sig\n",
    "from scipy import ndimage\n",
    "import glob\n",
    "import os"
   ]
  },
  {
   "cell_type": "code",
   "execution_count": 2,
   "metadata": {},
   "outputs": [],
   "source": [
    "def read_and_grayscale_images(foldername):\n",
    "    image_dict={}\n",
    "    image_list=[]\n",
    "    folders = glob.glob(foldername+'/*')\n",
    "    scene=1\n",
    "    image_index=-1\n",
    "    for folder in folders:\n",
    "        for file in glob.glob(folder+'/*.jpg'):\n",
    "            image = cv2.imread(file)\n",
    "            imgRGB = cv2.cvtColor(image, cv2.COLOR_BGR2RGB)\n",
    "            gray = cv2.cvtColor(imgRGB, cv2.COLOR_RGB2GRAY)\n",
    "            image_index+=1\n",
    "            image_list.append(gray)\n",
    "            image_dict[image_index]=scene\n",
    "        scene+=1\n",
    "    return image_dict,image_list"
   ]
  },
  {
   "cell_type": "code",
   "execution_count": 3,
   "metadata": {},
   "outputs": [],
   "source": [
    "def resize_images(image):\n",
    "    row,column=image.shape\n",
    "    if row>=column:\n",
    "        column=int((column/row)*1024)\n",
    "        row=1024\n",
    "    else:\n",
    "        row=int((row/column)*1024)\n",
    "        column=1024\n",
    "        \n",
    "    resized = cv2.resize(image, (row,column), interpolation = cv2.INTER_AREA)\n",
    "    return resized"
   ]
  },
  {
   "cell_type": "code",
   "execution_count": 4,
   "metadata": {},
   "outputs": [],
   "source": [
    "def orb_features(image):\n",
    "    kp, des = orb.detectAndCompute(image,None)\n",
    "    return des"
   ]
  },
  {
   "cell_type": "code",
   "execution_count": 5,
   "metadata": {},
   "outputs": [],
   "source": [
    "def sift_features(image):\n",
    "    kp, des = sift.detectAndCompute(image,None)\n",
    "    return des"
   ]
  },
  {
   "cell_type": "code",
   "execution_count": 6,
   "metadata": {},
   "outputs": [],
   "source": [
    "def two_image_distance(image_des1,image_des2,k=10):\n",
    "    keypoints_distance=np.ones(max(len(image_des1),len(image_des2)))*10000\n",
    "    for i ,kp1 in enumerate(image_des1):\n",
    "        for j, kp2 in enumerate(image_des2):\n",
    "            dist = np.linalg.norm(kp1-kp2)\n",
    "            if dist < keypoints_distance[i]:\n",
    "                keypoints_distance[i]=dist\n",
    "    keypoints_distance.sort() \n",
    "    return keypoints_distance"
   ]
  },
  {
   "cell_type": "code",
   "execution_count": 7,
   "metadata": {},
   "outputs": [],
   "source": [
    "def all_image_keypoint_dist(size,des_list,max_matches):\n",
    "    image_dist_list=np.zeros((size,size),dtype=np.ndarray)\n",
    "    for i ,img1 in enumerate(des_list):\n",
    "        for j, img2 in enumerate(des_list):\n",
    "            if j>i:\n",
    "                dist_list = two_image_distance(img1,img2)\n",
    "                image_dist_list[i][j]=image_dist_list[j][i]=dist_list\n",
    "        image_dist_list[i][i]=np.zeros(max_matches)\n",
    "    return image_dist_list"
   ]
  },
  {
   "cell_type": "code",
   "execution_count": 8,
   "metadata": {},
   "outputs": [],
   "source": [
    "def all_image_distances(size,des_list,k=10):\n",
    "    image_distances=np.zeros((size,size))\n",
    "    for i in range(len(des_list)):\n",
    "        for j in range(len(des_list)):\n",
    "            if j>i:\n",
    "                image_distances[i][j]=sum(des_list[i][j][:k])  \n",
    "                image_distances[j][i]=image_distances[i][j]\n",
    "    return image_distances"
   ]
  },
  {
   "cell_type": "code",
   "execution_count": 9,
   "metadata": {},
   "outputs": [],
   "source": [
    "def query_image(image_idx,distance_list,num_closest=5):\n",
    "    closest_image_idxs=np.argsort(distance_list)\n",
    "    closest_images =closest_image_idxs[:6]\n",
    "    closest_images=closest_images[closest_images!=image_idx]\n",
    "    return closest_images        "
   ]
  },
  {
   "cell_type": "code",
   "execution_count": 10,
   "metadata": {},
   "outputs": [],
   "source": [
    "def accuracy(image_dict,image_distances,num_closest=5):\n",
    "    image_accuracy=[]\n",
    "    for image_idx, dist_list in enumerate(image_distances):\n",
    "        closest_images= query_image(image_idx,dist_list,num_closest)     \n",
    "        acc_count=0\n",
    "        for idx in closest_images:\n",
    "            if image_dict[idx]==image_dict[image_idx]:\n",
    "                acc_count+=1\n",
    "        image_accuracy.append((acc_count/5.0)*100)\n",
    "    avg_img_ret_accuracy=sum(image_accuracy)/float(len(image_accuracy))\n",
    "    return image_accuracy,avg_img_ret_accuracy        "
   ]
  },
  {
   "cell_type": "code",
   "execution_count": 11,
   "metadata": {},
   "outputs": [],
   "source": [
    "def orb_feature_detection(image_dict,orb_image_dist_list,k,num_closest=5):\n",
    "    orb_image_distances=all_image_distances(size,orb_image_dist_list,k)\n",
    "    orb_per_img_acc, orb_accuracy = accuracy(image_dict,orb_image_distances,5)\n",
    "    return orb_image_distances,orb_accuracy"
   ]
  },
  {
   "cell_type": "code",
   "execution_count": 12,
   "metadata": {},
   "outputs": [],
   "source": [
    "def sift_feature_detection(image_dict,sift_image_dist_list,k,num_closest=5):\n",
    "    sift_image_distances=all_image_distances(size,sift_image_dist_list,k)\n",
    "    sift_per_img_acc, sift_accuracy = accuracy(image_dict,sift_image_distances,5)\n",
    "    return sift_image_distances,sift_accuracy"
   ]
  },
  {
   "cell_type": "markdown",
   "metadata": {},
   "source": [
    "### Reading and resizing images"
   ]
  },
  {
   "cell_type": "code",
   "execution_count": 13,
   "metadata": {},
   "outputs": [],
   "source": [
    "image_dict,image_list=read_and_grayscale_images('Images')\n",
    "size = len(image_list)"
   ]
  },
  {
   "cell_type": "code",
   "execution_count": 14,
   "metadata": {},
   "outputs": [],
   "source": [
    "for image in range(len(image_list)):\n",
    "    image_list[image]=resize_images(image_list[image])   "
   ]
  },
  {
   "cell_type": "markdown",
   "metadata": {},
   "source": [
    "### SIFT and ORB feature detection for k=10"
   ]
  },
  {
   "cell_type": "code",
   "execution_count": 15,
   "metadata": {},
   "outputs": [],
   "source": [
    "k=10"
   ]
  },
  {
   "cell_type": "code",
   "execution_count": 16,
   "metadata": {},
   "outputs": [],
   "source": [
    "max_matches=100\n",
    "sift = cv2.xfeatures2d.SIFT_create(nfeatures=max_matches)\n",
    "orb = cv2.ORB_create(nfeatures=max_matches)"
   ]
  },
  {
   "cell_type": "code",
   "execution_count": 17,
   "metadata": {},
   "outputs": [],
   "source": [
    "orb_des_list = [orb_features(image) for image in image_list]\n",
    "sift_des_list = [sift_features(image) for image in image_list]"
   ]
  },
  {
   "cell_type": "code",
   "execution_count": 18,
   "metadata": {},
   "outputs": [
    {
     "name": "stdout",
     "output_type": "stream",
     "text": [
      "CPU times: user 2min 16s, sys: 491 ms, total: 2min 16s\n",
      "Wall time: 2min 15s\n"
     ]
    }
   ],
   "source": [
    "%time sift_image_dist_list=all_image_keypoint_dist(size,sift_des_list,max_matches)"
   ]
  },
  {
   "cell_type": "code",
   "execution_count": 19,
   "metadata": {},
   "outputs": [
    {
     "name": "stdout",
     "output_type": "stream",
     "text": [
      "CPU times: user 1min 55s, sys: 0 ns, total: 1min 55s\n",
      "Wall time: 1min 55s\n"
     ]
    }
   ],
   "source": [
    "%time orb_image_dist_list=all_image_keypoint_dist(size,orb_des_list,max_matches)"
   ]
  },
  {
   "cell_type": "code",
   "execution_count": 20,
   "metadata": {},
   "outputs": [],
   "source": [
    "orb_image_distances,orb_accuracy = orb_feature_detection(image_dict,orb_image_dist_list,k,5)\n",
    "sift_image_distances,sift_accuracy=sift_feature_detection(image_dict,sift_image_dist_list,k,5)"
   ]
  },
  {
   "cell_type": "code",
   "execution_count": 21,
   "metadata": {},
   "outputs": [
    {
     "name": "stdout",
     "output_type": "stream",
     "text": [
      "k=10 => \n",
      "Sift Accuracy: 65.67\n",
      "ORB Accuracy: 24.33\n"
     ]
    }
   ],
   "source": [
    "print(\"k=%d => \\nSift Accuracy: %0.2f\\nORB Accuracy: %0.2f\"%(k,sift_accuracy,orb_accuracy))"
   ]
  },
  {
   "cell_type": "markdown",
   "metadata": {},
   "source": [
    "### Query one image to find top-5 similar images"
   ]
  },
  {
   "cell_type": "code",
   "execution_count": 22,
   "metadata": {},
   "outputs": [],
   "source": [
    "query_img_idx=1\n",
    "top_5_images_orb = query_image(query_img_idx,orb_image_distances[query_img_idx],5)\n",
    "top_5_images_sift = query_image(query_img_idx,sift_image_distances[query_img_idx],5)"
   ]
  },
  {
   "cell_type": "code",
   "execution_count": 23,
   "metadata": {},
   "outputs": [
    {
     "name": "stdout",
     "output_type": "stream",
     "text": [
      "ORB : The top-5 images similar to image 1 are :\n",
      " [35 33 22  0 39]\n",
      "SIFT : The top-5 images similar to image 1 are :\n",
      " [5 0 2 3 4]\n"
     ]
    }
   ],
   "source": [
    "print(\"ORB : The top-5 images similar to image %d are :\\n\"%(query_img_idx),top_5_images_orb)\n",
    "print(\"SIFT : The top-5 images similar to image %d are :\\n\"%(query_img_idx),top_5_images_sift)"
   ]
  },
  {
   "cell_type": "markdown",
   "metadata": {},
   "source": [
    "### Comparison of SIFT and ORB"
   ]
  },
  {
   "cell_type": "code",
   "execution_count": 24,
   "metadata": {},
   "outputs": [],
   "source": [
    "k_lst = [1,5,10,20,40,60,80,max_matches]"
   ]
  },
  {
   "cell_type": "code",
   "execution_count": 25,
   "metadata": {},
   "outputs": [],
   "source": [
    "orb_accuracy_list=[]\n",
    "sift_accuracy_list=[]\n",
    "for k_ in k_lst:\n",
    "    orb_image_distances,orb_accuracy = orb_feature_detection(image_dict,orb_image_dist_list,k_,5)\n",
    "    orb_accuracy_list.append(orb_accuracy)\n",
    "    sift_image_distances,sift_accuracy = sift_feature_detection(image_dict,sift_image_dist_list,k_,5)\n",
    "    sift_accuracy_list.append(sift_accuracy)"
   ]
  },
  {
   "cell_type": "code",
   "execution_count": 26,
   "metadata": {},
   "outputs": [
    {
     "data": {
      "image/png": "[encoded data removed]",
      "text/plain": [
       "<Figure size 432x288 with 1 Axes>"
      ]
     },
     "metadata": {
      "needs_background": "light"
     },
     "output_type": "display_data"
    }
   ],
   "source": [
    "plt.plot(k_lst, orb_accuracy_list, label='ORB')\n",
    "plt.plot(k_lst, sift_accuracy_list, label='SIFT')\n",
    "plt.xlabel('k')\n",
    "plt.ylabel('Accuracy')\n",
    "plt.legend()\n",
    "plt.title('Accuracy vs k plot for ORB and SIFT features')\n",
    "plt.show()"
   ]
  },
  {
   "cell_type": "markdown",
   "metadata": {},
   "source": [
    "### SIFT performs better than ORB in terms of accuracy."
   ]
  },
  {
   "cell_type": "code",
   "execution_count": null,
   "metadata": {},
   "outputs": [],
   "source": []
  }
 ],
 "metadata": {
  "kernelspec": {
   "display_name": "Python 3",
   "language": "python",
   "name": "python3"
  },
  "language_info": {
   "codemirror_mode": {
    "name": "ipython",
    "version": 3
   },
   "file_extension": ".py",
   "mimetype": "text/x-python",
   "name": "python",
   "nbconvert_exporter": "python",
   "pygments_lexer": "ipython3",
   "version": "3.6.7"
  }
 },
 "nbformat": 4,
 "nbformat_minor": 2
}
